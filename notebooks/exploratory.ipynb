{
 "cells": [
  {
   "cell_type": "code",
   "execution_count": 177,
   "id": "f45ef0eb-463b-493d-9282-ea6ee9ad50cc",
   "metadata": {},
   "outputs": [],
   "source": [
    "import gymnasium as gym\n",
    "from gymnasium import spaces\n",
    "from stable_baselines3 import PPO\n",
    "from scipy.optimize import minimize, Bounds, LinearConstraint\n",
    "import plotly.graph_objs as go\n",
    "import pandas as pd\n",
    "#import requests\n",
    "import numpy as np\n",
    "#import yfinance as yf\n",
    "import matplotlib\n",
    "%matplotlib inline\n",
    "import random\n",
    "import cvxpy as cp\n",
    "import matplotlib.pyplot as plt\n",
    "import datetime as dt\n",
    "#from sklearn.linear_model import LinearRegression"
   ]
  },
  {
   "cell_type": "code",
   "execution_count": 178,
   "id": "866c18de-b7d5-4034-bc09-209aa4707efd",
   "metadata": {},
   "outputs": [],
   "source": [
    "def set_random_seed(seed):\n",
    "    random.seed(seed)\n",
    "    np.random.seed(seed)\n",
    "    tf.random.set_seed(seed)\n",
    "    torch.manual_seed(seed)\n",
    "    if torch.cuda.is_available():\n",
    "        torch.cuda.manual_seed_all(seed)"
   ]
  },
  {
   "cell_type": "markdown",
   "id": "48f9736d-8cad-47a1-bb8e-63d7dbf3d6ac",
   "metadata": {},
   "source": [
    "## For environemnt\n",
    "if seed is not None:\n",
    "        env.seed(seed)\n",
    "        random.seed(seed)\n",
    "        np.random.seed(seed)"
   ]
  },
  {
   "cell_type": "code",
   "execution_count": 179,
   "id": "72242777-fe54-4148-a285-9a6f2341b141",
   "metadata": {},
   "outputs": [],
   "source": [
    "price_data_path = '../data/prices.csv' \n",
    "prices_data = pd.read_csv(price_data_path)\n",
    "prices_data = prices_data.dropna()"
   ]
  },
  {
   "cell_type": "code",
   "execution_count": 180,
   "id": "271ffbd1-a906-41a0-81a0-65051c2692b7",
   "metadata": {},
   "outputs": [],
   "source": [
    "prices_data['HOUR'] = pd.to_datetime(prices_data['HOUR'])"
   ]
  },
  {
   "cell_type": "code",
   "execution_count": 181,
   "id": "54138aa7-84cd-4fbc-9d19-1bfc2142ff96",
   "metadata": {},
   "outputs": [
    {
     "data": {
      "text/html": [
       "<div>\n",
       "<style scoped>\n",
       "    .dataframe tbody tr th:only-of-type {\n",
       "        vertical-align: middle;\n",
       "    }\n",
       "\n",
       "    .dataframe tbody tr th {\n",
       "        vertical-align: top;\n",
       "    }\n",
       "\n",
       "    .dataframe thead th {\n",
       "        text-align: right;\n",
       "    }\n",
       "</style>\n",
       "<table border=\"1\" class=\"dataframe\">\n",
       "  <thead>\n",
       "    <tr style=\"text-align: right;\">\n",
       "      <th></th>\n",
       "      <th>HOUR</th>\n",
       "      <th>SYMBOL</th>\n",
       "      <th>PRICE</th>\n",
       "    </tr>\n",
       "  </thead>\n",
       "  <tbody>\n",
       "    <tr>\n",
       "      <th>0</th>\n",
       "      <td>2023-01-10 00:00:00</td>\n",
       "      <td>RETH</td>\n",
       "      <td>1169.932315</td>\n",
       "    </tr>\n",
       "    <tr>\n",
       "      <th>1</th>\n",
       "      <td>2023-01-10 00:00:00</td>\n",
       "      <td>RETH</td>\n",
       "      <td>1410.355065</td>\n",
       "    </tr>\n",
       "    <tr>\n",
       "      <th>2</th>\n",
       "      <td>2023-01-10 00:00:00</td>\n",
       "      <td>SFRXETH</td>\n",
       "      <td>1343.795487</td>\n",
       "    </tr>\n",
       "    <tr>\n",
       "      <th>3</th>\n",
       "      <td>2023-01-10 00:00:00</td>\n",
       "      <td>WSTETH</td>\n",
       "      <td>1448.049037</td>\n",
       "    </tr>\n",
       "    <tr>\n",
       "      <th>4</th>\n",
       "      <td>2023-01-10 01:00:00</td>\n",
       "      <td>RETH</td>\n",
       "      <td>1409.274294</td>\n",
       "    </tr>\n",
       "    <tr>\n",
       "      <th>...</th>\n",
       "      <td>...</td>\n",
       "      <td>...</td>\n",
       "      <td>...</td>\n",
       "    </tr>\n",
       "    <tr>\n",
       "      <th>50047</th>\n",
       "      <td>2024-06-14 20:00:00</td>\n",
       "      <td>SFRXETH</td>\n",
       "      <td>3675.240000</td>\n",
       "    </tr>\n",
       "    <tr>\n",
       "      <th>50048</th>\n",
       "      <td>2024-06-14 20:00:00</td>\n",
       "      <td>WSTETH</td>\n",
       "      <td>3965.210000</td>\n",
       "    </tr>\n",
       "    <tr>\n",
       "      <th>50049</th>\n",
       "      <td>2024-06-14 21:00:00</td>\n",
       "      <td>RETH</td>\n",
       "      <td>3763.130000</td>\n",
       "    </tr>\n",
       "    <tr>\n",
       "      <th>50050</th>\n",
       "      <td>2024-06-14 21:00:00</td>\n",
       "      <td>SFRXETH</td>\n",
       "      <td>3699.200000</td>\n",
       "    </tr>\n",
       "    <tr>\n",
       "      <th>50051</th>\n",
       "      <td>2024-06-14 21:00:00</td>\n",
       "      <td>WSTETH</td>\n",
       "      <td>3963.300000</td>\n",
       "    </tr>\n",
       "  </tbody>\n",
       "</table>\n",
       "<p>50052 rows × 3 columns</p>\n",
       "</div>"
      ],
      "text/plain": [
       "                     HOUR   SYMBOL        PRICE\n",
       "0     2023-01-10 00:00:00     RETH  1169.932315\n",
       "1     2023-01-10 00:00:00     RETH  1410.355065\n",
       "2     2023-01-10 00:00:00  SFRXETH  1343.795487\n",
       "3     2023-01-10 00:00:00   WSTETH  1448.049037\n",
       "4     2023-01-10 01:00:00     RETH  1409.274294\n",
       "...                   ...      ...          ...\n",
       "50047 2024-06-14 20:00:00  SFRXETH  3675.240000\n",
       "50048 2024-06-14 20:00:00   WSTETH  3965.210000\n",
       "50049 2024-06-14 21:00:00     RETH  3763.130000\n",
       "50050 2024-06-14 21:00:00  SFRXETH  3699.200000\n",
       "50051 2024-06-14 21:00:00   WSTETH  3963.300000\n",
       "\n",
       "[50052 rows x 3 columns]"
      ]
     },
     "execution_count": 181,
     "metadata": {},
     "output_type": "execute_result"
    }
   ],
   "source": [
    "prices_data"
   ]
  },
  {
   "cell_type": "code",
   "execution_count": 182,
   "id": "03f76cf0-8dd7-42c6-8ad5-ec96a0c927a3",
   "metadata": {},
   "outputs": [],
   "source": [
    "aggregated_data = prices_data.groupby(['HOUR', 'SYMBOL'], as_index=False).mean()"
   ]
  },
  {
   "cell_type": "code",
   "execution_count": 183,
   "id": "19a2b8b1-765d-4c74-a1a2-54242bebbc8e",
   "metadata": {},
   "outputs": [],
   "source": [
    "pivot_prices = aggregated_data.pivot(index='HOUR', columns='SYMBOL', values='PRICE').reset_index()"
   ]
  },
  {
   "cell_type": "code",
   "execution_count": 188,
   "id": "6d96e369-705c-47a2-bd05-4e1149dfcc22",
   "metadata": {},
   "outputs": [],
   "source": [
    "price_timeseries = pivot_prices.copy()"
   ]
  },
  {
   "cell_type": "code",
   "execution_count": 189,
   "id": "6d3d16c8-9b1d-4705-a3a9-dc6bff8615b2",
   "metadata": {},
   "outputs": [],
   "source": [
    "price_timeseries.set_index('HOUR', inplace=True)"
   ]
  },
  {
   "cell_type": "code",
   "execution_count": 190,
   "id": "cb378c58-0f5e-4d99-a407-00209e16b6b5",
   "metadata": {},
   "outputs": [
    {
     "data": {
      "text/html": [
       "<div>\n",
       "<style scoped>\n",
       "    .dataframe tbody tr th:only-of-type {\n",
       "        vertical-align: middle;\n",
       "    }\n",
       "\n",
       "    .dataframe tbody tr th {\n",
       "        vertical-align: top;\n",
       "    }\n",
       "\n",
       "    .dataframe thead th {\n",
       "        text-align: right;\n",
       "    }\n",
       "</style>\n",
       "<table border=\"1\" class=\"dataframe\">\n",
       "  <thead>\n",
       "    <tr style=\"text-align: right;\">\n",
       "      <th>SYMBOL</th>\n",
       "      <th>RETH</th>\n",
       "      <th>SFRXETH</th>\n",
       "      <th>WSTETH</th>\n",
       "    </tr>\n",
       "  </thead>\n",
       "  <tbody>\n",
       "    <tr>\n",
       "      <th>count</th>\n",
       "      <td>12526.000000</td>\n",
       "      <td>12526.000000</td>\n",
       "      <td>12526.000000</td>\n",
       "    </tr>\n",
       "    <tr>\n",
       "      <th>mean</th>\n",
       "      <td>2380.667729</td>\n",
       "      <td>2357.887618</td>\n",
       "      <td>2539.289865</td>\n",
       "    </tr>\n",
       "    <tr>\n",
       "      <th>std</th>\n",
       "      <td>791.835681</td>\n",
       "      <td>779.925816</td>\n",
       "      <td>835.224088</td>\n",
       "    </tr>\n",
       "    <tr>\n",
       "      <th>min</th>\n",
       "      <td>1289.049797</td>\n",
       "      <td>1218.893318</td>\n",
       "      <td>1447.077745</td>\n",
       "    </tr>\n",
       "    <tr>\n",
       "      <th>25%</th>\n",
       "      <td>1803.743409</td>\n",
       "      <td>1774.755158</td>\n",
       "      <td>1914.256202</td>\n",
       "    </tr>\n",
       "    <tr>\n",
       "      <th>50%</th>\n",
       "      <td>2004.433188</td>\n",
       "      <td>1976.704489</td>\n",
       "      <td>2131.698563</td>\n",
       "    </tr>\n",
       "    <tr>\n",
       "      <th>75%</th>\n",
       "      <td>2730.777245</td>\n",
       "      <td>2701.638037</td>\n",
       "      <td>2906.201561</td>\n",
       "    </tr>\n",
       "    <tr>\n",
       "      <th>max</th>\n",
       "      <td>4353.505000</td>\n",
       "      <td>7535.336365</td>\n",
       "      <td>4711.805155</td>\n",
       "    </tr>\n",
       "  </tbody>\n",
       "</table>\n",
       "</div>"
      ],
      "text/plain": [
       "SYMBOL          RETH       SFRXETH        WSTETH\n",
       "count   12526.000000  12526.000000  12526.000000\n",
       "mean     2380.667729   2357.887618   2539.289865\n",
       "std       791.835681    779.925816    835.224088\n",
       "min      1289.049797   1218.893318   1447.077745\n",
       "25%      1803.743409   1774.755158   1914.256202\n",
       "50%      2004.433188   1976.704489   2131.698563\n",
       "75%      2730.777245   2701.638037   2906.201561\n",
       "max      4353.505000   7535.336365   4711.805155"
      ]
     },
     "execution_count": 190,
     "metadata": {},
     "output_type": "execute_result"
    }
   ],
   "source": [
    "price_timeseries.describe()"
   ]
  },
  {
   "cell_type": "code",
   "execution_count": 191,
   "id": "9d0a2bb8-5635-4679-931d-ffa0c6b20924",
   "metadata": {},
   "outputs": [
    {
     "data": {
      "text/html": [
       "<div>\n",
       "<style scoped>\n",
       "    .dataframe tbody tr th:only-of-type {\n",
       "        vertical-align: middle;\n",
       "    }\n",
       "\n",
       "    .dataframe tbody tr th {\n",
       "        vertical-align: top;\n",
       "    }\n",
       "\n",
       "    .dataframe thead th {\n",
       "        text-align: right;\n",
       "    }\n",
       "</style>\n",
       "<table border=\"1\" class=\"dataframe\">\n",
       "  <thead>\n",
       "    <tr style=\"text-align: right;\">\n",
       "      <th>SYMBOL</th>\n",
       "      <th>RETH</th>\n",
       "      <th>SFRXETH</th>\n",
       "      <th>WSTETH</th>\n",
       "    </tr>\n",
       "    <tr>\n",
       "      <th>HOUR</th>\n",
       "      <th></th>\n",
       "      <th></th>\n",
       "      <th></th>\n",
       "    </tr>\n",
       "  </thead>\n",
       "  <tbody>\n",
       "    <tr>\n",
       "      <th>2023-01-10 00:00:00</th>\n",
       "      <td>1290.143690</td>\n",
       "      <td>1343.795487</td>\n",
       "      <td>1448.049037</td>\n",
       "    </tr>\n",
       "    <tr>\n",
       "      <th>2023-01-10 01:00:00</th>\n",
       "      <td>1289.049797</td>\n",
       "      <td>1343.044585</td>\n",
       "      <td>1447.077745</td>\n",
       "    </tr>\n",
       "    <tr>\n",
       "      <th>2023-01-10 02:00:00</th>\n",
       "      <td>1294.138380</td>\n",
       "      <td>1331.623488</td>\n",
       "      <td>1452.067734</td>\n",
       "    </tr>\n",
       "    <tr>\n",
       "      <th>2023-01-10 03:00:00</th>\n",
       "      <td>1293.660028</td>\n",
       "      <td>1329.479296</td>\n",
       "      <td>1451.492945</td>\n",
       "    </tr>\n",
       "    <tr>\n",
       "      <th>2023-01-10 04:00:00</th>\n",
       "      <td>1292.363131</td>\n",
       "      <td>1327.170486</td>\n",
       "      <td>1447.857928</td>\n",
       "    </tr>\n",
       "    <tr>\n",
       "      <th>...</th>\n",
       "      <td>...</td>\n",
       "      <td>...</td>\n",
       "      <td>...</td>\n",
       "    </tr>\n",
       "    <tr>\n",
       "      <th>2024-06-14 17:00:00</th>\n",
       "      <td>3861.890000</td>\n",
       "      <td>3753.580000</td>\n",
       "      <td>4059.110000</td>\n",
       "    </tr>\n",
       "    <tr>\n",
       "      <th>2024-06-14 18:00:00</th>\n",
       "      <td>3779.210000</td>\n",
       "      <td>3702.630000</td>\n",
       "      <td>3991.060000</td>\n",
       "    </tr>\n",
       "    <tr>\n",
       "      <th>2024-06-14 19:00:00</th>\n",
       "      <td>3766.860000</td>\n",
       "      <td>3685.080000</td>\n",
       "      <td>3972.560000</td>\n",
       "    </tr>\n",
       "    <tr>\n",
       "      <th>2024-06-14 20:00:00</th>\n",
       "      <td>3758.570000</td>\n",
       "      <td>3675.240000</td>\n",
       "      <td>3965.210000</td>\n",
       "    </tr>\n",
       "    <tr>\n",
       "      <th>2024-06-14 21:00:00</th>\n",
       "      <td>3763.130000</td>\n",
       "      <td>3699.200000</td>\n",
       "      <td>3963.300000</td>\n",
       "    </tr>\n",
       "  </tbody>\n",
       "</table>\n",
       "<p>12526 rows × 3 columns</p>\n",
       "</div>"
      ],
      "text/plain": [
       "SYMBOL                      RETH      SFRXETH       WSTETH\n",
       "HOUR                                                      \n",
       "2023-01-10 00:00:00  1290.143690  1343.795487  1448.049037\n",
       "2023-01-10 01:00:00  1289.049797  1343.044585  1447.077745\n",
       "2023-01-10 02:00:00  1294.138380  1331.623488  1452.067734\n",
       "2023-01-10 03:00:00  1293.660028  1329.479296  1451.492945\n",
       "2023-01-10 04:00:00  1292.363131  1327.170486  1447.857928\n",
       "...                          ...          ...          ...\n",
       "2024-06-14 17:00:00  3861.890000  3753.580000  4059.110000\n",
       "2024-06-14 18:00:00  3779.210000  3702.630000  3991.060000\n",
       "2024-06-14 19:00:00  3766.860000  3685.080000  3972.560000\n",
       "2024-06-14 20:00:00  3758.570000  3675.240000  3965.210000\n",
       "2024-06-14 21:00:00  3763.130000  3699.200000  3963.300000\n",
       "\n",
       "[12526 rows x 3 columns]"
      ]
     },
     "execution_count": 191,
     "metadata": {},
     "output_type": "execute_result"
    }
   ],
   "source": [
    "price_timeseries"
   ]
  },
  {
   "cell_type": "code",
   "execution_count": 192,
   "id": "e2fd823d-f6ad-4cbe-8a1e-37686d1d8c3a",
   "metadata": {},
   "outputs": [],
   "source": [
    "SFRXETH_price = price_timeseries['SFRXETH']"
   ]
  },
  {
   "cell_type": "code",
   "execution_count": 193,
   "id": "08fc4898-c944-42a2-9e97-bbd221097435",
   "metadata": {},
   "outputs": [],
   "source": [
    "SFRXETH_price.to_csv('../data/sfrx.csv')"
   ]
  },
  {
   "cell_type": "code",
   "execution_count": 194,
   "id": "a441d9dd-68e1-492f-ba03-ff91a0d898be",
   "metadata": {},
   "outputs": [],
   "source": [
    "SFRXETH_price_pct = SFRXETH_price.pct_change()"
   ]
  },
  {
   "cell_type": "code",
   "execution_count": 195,
   "id": "65959bd2-5b70-4141-b18c-cd2f027f60cc",
   "metadata": {},
   "outputs": [],
   "source": [
    "anomolies = SFRXETH_price_pct.where(SFRXETH_price_pct.values > SFRXETH_price_pct.mean()*0.5).dropna()"
   ]
  },
  {
   "cell_type": "code",
   "execution_count": 196,
   "id": "4a566f38-c2e8-457e-a31c-a64efda4c66c",
   "metadata": {},
   "outputs": [
    {
     "data": {
      "text/plain": [
       "count    5937.000000\n",
       "mean        0.005185\n",
       "std         0.048592\n",
       "min         0.000212\n",
       "25%         0.001096\n",
       "50%         0.002317\n",
       "75%         0.004717\n",
       "max         3.357390\n",
       "Name: SFRXETH, dtype: float64"
      ]
     },
     "execution_count": 196,
     "metadata": {},
     "output_type": "execute_result"
    }
   ],
   "source": [
    "anomolies.describe()"
   ]
  },
  {
   "cell_type": "code",
   "execution_count": 197,
   "id": "3168322f-6610-4412-b2b5-fb023309e217",
   "metadata": {},
   "outputs": [],
   "source": [
    "percentile_9 = anomolies.quantile(0.999)\n",
    "anomalies_above_90th = anomolies > percentile_9\n"
   ]
  },
  {
   "cell_type": "code",
   "execution_count": 198,
   "id": "3106ac2f-48b5-41cc-bba5-e90090ddd01d",
   "metadata": {},
   "outputs": [],
   "source": [
    "anomalies2 = anomalies_above_90th.where(anomalies_above_90th.values == True).dropna()"
   ]
  },
  {
   "cell_type": "code",
   "execution_count": 199,
   "id": "2f0ac712-3de8-4397-8d00-72067da06cda",
   "metadata": {},
   "outputs": [
    {
     "data": {
      "text/plain": [
       "HOUR\n",
       "2023-01-19 07:00:00    True\n",
       "2023-01-29 12:00:00    True\n",
       "2023-02-16 09:00:00    True\n",
       "2023-04-18 07:00:00    True\n",
       "2023-04-18 11:00:00    True\n",
       "2023-04-20 02:00:00    True\n",
       "Name: SFRXETH, dtype: object"
      ]
     },
     "execution_count": 199,
     "metadata": {},
     "output_type": "execute_result"
    }
   ],
   "source": [
    "anomalies2"
   ]
  },
  {
   "cell_type": "code",
   "execution_count": 200,
   "id": "702529ee-d07c-4288-8a04-e96a598192c0",
   "metadata": {},
   "outputs": [],
   "source": [
    "anomalies_dates = anomalies2.index.unique()"
   ]
  },
  {
   "cell_type": "code",
   "execution_count": 212,
   "id": "83d9907b-c408-4187-9eba-792e03611653",
   "metadata": {},
   "outputs": [
    {
     "data": {
      "text/plain": [
       "DatetimeIndex(['2023-01-19 07:00:00', '2023-01-29 12:00:00',\n",
       "               '2023-02-16 09:00:00', '2023-04-18 07:00:00',\n",
       "               '2023-04-18 11:00:00', '2023-04-20 02:00:00'],\n",
       "              dtype='datetime64[ns]', name='HOUR', freq=None)"
      ]
     },
     "execution_count": 212,
     "metadata": {},
     "output_type": "execute_result"
    }
   ],
   "source": [
    "anomalies_dates\n"
   ]
  },
  {
   "cell_type": "code",
   "execution_count": 202,
   "id": "77f86c9e-7698-4e5d-ad79-91c945b7df3d",
   "metadata": {},
   "outputs": [],
   "source": [
    "weird_dates = price_timeseries.loc[anomalies_dates]"
   ]
  },
  {
   "cell_type": "code",
   "execution_count": 203,
   "id": "98cdafa7-3b82-476d-bdaa-5d6fa46af429",
   "metadata": {},
   "outputs": [
    {
     "data": {
      "text/plain": [
       "HOUR\n",
       "2023-01-19 07:00:00    2058.231149\n",
       "2023-01-29 12:00:00    3029.705400\n",
       "2023-02-16 09:00:00    7535.336365\n",
       "2023-04-18 07:00:00    3001.235718\n",
       "2023-04-18 11:00:00    3909.498803\n",
       "2023-04-20 02:00:00    3846.042838\n",
       "Name: SFRXETH, dtype: float64"
      ]
     },
     "execution_count": 203,
     "metadata": {},
     "output_type": "execute_result"
    }
   ],
   "source": [
    "weird_dates['SFRXETH']"
   ]
  },
  {
   "cell_type": "code",
   "execution_count": 204,
   "id": "057c587c-f6b3-4c86-b725-106c682b4f8d",
   "metadata": {},
   "outputs": [
    {
     "data": {
      "text/plain": [
       "<Axes: xlabel='HOUR'>"
      ]
     },
     "execution_count": 204,
     "metadata": {},
     "output_type": "execute_result"
    },
    {
     "data": {
      "image/png": "[encoded data removed]",
      "text/plain": [
       "<Figure size 640x480 with 1 Axes>"
      ]
     },
     "metadata": {},
     "output_type": "display_data"
    }
   ],
   "source": [
    "weird_dates['SFRXETH'].plot()"
   ]
  },
  {
   "cell_type": "code",
   "execution_count": 205,
   "id": "b29aada6-7faa-4f0d-adb6-8c66bbf61c8f",
   "metadata": {},
   "outputs": [
    {
     "data": {
      "text/html": [
       "<div>\n",
       "<style scoped>\n",
       "    .dataframe tbody tr th:only-of-type {\n",
       "        vertical-align: middle;\n",
       "    }\n",
       "\n",
       "    .dataframe tbody tr th {\n",
       "        vertical-align: top;\n",
       "    }\n",
       "\n",
       "    .dataframe thead th {\n",
       "        text-align: right;\n",
       "    }\n",
       "</style>\n",
       "<table border=\"1\" class=\"dataframe\">\n",
       "  <thead>\n",
       "    <tr style=\"text-align: right;\">\n",
       "      <th>SYMBOL</th>\n",
       "      <th>RETH</th>\n",
       "      <th>SFRXETH</th>\n",
       "      <th>WSTETH</th>\n",
       "    </tr>\n",
       "    <tr>\n",
       "      <th>HOUR</th>\n",
       "      <th></th>\n",
       "      <th></th>\n",
       "      <th></th>\n",
       "    </tr>\n",
       "  </thead>\n",
       "  <tbody>\n",
       "    <tr>\n",
       "      <th>2023-01-19 07:00:00</th>\n",
       "      <td>1577.063131</td>\n",
       "      <td>2058.231149</td>\n",
       "      <td>2033.502222</td>\n",
       "    </tr>\n",
       "    <tr>\n",
       "      <th>2023-01-29 12:00:00</th>\n",
       "      <td>1579.570702</td>\n",
       "      <td>3029.705400</td>\n",
       "      <td>1781.067229</td>\n",
       "    </tr>\n",
       "    <tr>\n",
       "      <th>2023-02-16 09:00:00</th>\n",
       "      <td>1685.441709</td>\n",
       "      <td>7535.336365</td>\n",
       "      <td>1858.549844</td>\n",
       "    </tr>\n",
       "    <tr>\n",
       "      <th>2023-04-18 07:00:00</th>\n",
       "      <td>2181.065558</td>\n",
       "      <td>3001.235718</td>\n",
       "      <td>2337.444837</td>\n",
       "    </tr>\n",
       "    <tr>\n",
       "      <th>2023-04-18 11:00:00</th>\n",
       "      <td>2197.127842</td>\n",
       "      <td>3909.498803</td>\n",
       "      <td>2354.473916</td>\n",
       "    </tr>\n",
       "    <tr>\n",
       "      <th>2023-04-20 02:00:00</th>\n",
       "      <td>2029.211246</td>\n",
       "      <td>3846.042838</td>\n",
       "      <td>2179.549521</td>\n",
       "    </tr>\n",
       "  </tbody>\n",
       "</table>\n",
       "</div>"
      ],
      "text/plain": [
       "SYMBOL                      RETH      SFRXETH       WSTETH\n",
       "HOUR                                                      \n",
       "2023-01-19 07:00:00  1577.063131  2058.231149  2033.502222\n",
       "2023-01-29 12:00:00  1579.570702  3029.705400  1781.067229\n",
       "2023-02-16 09:00:00  1685.441709  7535.336365  1858.549844\n",
       "2023-04-18 07:00:00  2181.065558  3001.235718  2337.444837\n",
       "2023-04-18 11:00:00  2197.127842  3909.498803  2354.473916\n",
       "2023-04-20 02:00:00  2029.211246  3846.042838  2179.549521"
      ]
     },
     "execution_count": 205,
     "metadata": {},
     "output_type": "execute_result"
    }
   ],
   "source": [
    "weird_dates"
   ]
  },
  {
   "cell_type": "code",
   "execution_count": 206,
   "id": "8191b480-973e-4732-8c28-8bd28323a06f",
   "metadata": {},
   "outputs": [],
   "source": [
    "price_timeseries['SFRXETH_MA'] = price_timeseries['SFRXETH'].rolling(window=30, min_periods=1).mean()\n"
   ]
  },
  {
   "cell_type": "code",
   "execution_count": 207,
   "id": "c7f5f4b9-57be-4a19-8c67-34adfa0afb39",
   "metadata": {},
   "outputs": [],
   "source": [
    "price_timeseries = price_timeseries.reset_index()\n"
   ]
  },
  {
   "cell_type": "code",
   "execution_count": 208,
   "id": "95978006-d4ee-4a6c-987b-d59271470199",
   "metadata": {},
   "outputs": [
    {
     "data": {
      "text/html": [
       "<div>\n",
       "<style scoped>\n",
       "    .dataframe tbody tr th:only-of-type {\n",
       "        vertical-align: middle;\n",
       "    }\n",
       "\n",
       "    .dataframe tbody tr th {\n",
       "        vertical-align: top;\n",
       "    }\n",
       "\n",
       "    .dataframe thead th {\n",
       "        text-align: right;\n",
       "    }\n",
       "</style>\n",
       "<table border=\"1\" class=\"dataframe\">\n",
       "  <thead>\n",
       "    <tr style=\"text-align: right;\">\n",
       "      <th>SYMBOL</th>\n",
       "      <th>HOUR</th>\n",
       "      <th>RETH</th>\n",
       "      <th>SFRXETH</th>\n",
       "      <th>WSTETH</th>\n",
       "      <th>SFRXETH_MA</th>\n",
       "    </tr>\n",
       "  </thead>\n",
       "  <tbody>\n",
       "    <tr>\n",
       "      <th>0</th>\n",
       "      <td>2023-01-10 00:00:00</td>\n",
       "      <td>1290.143690</td>\n",
       "      <td>1343.795487</td>\n",
       "      <td>1448.049037</td>\n",
       "      <td>1343.795487</td>\n",
       "    </tr>\n",
       "    <tr>\n",
       "      <th>1</th>\n",
       "      <td>2023-01-10 01:00:00</td>\n",
       "      <td>1289.049797</td>\n",
       "      <td>1343.044585</td>\n",
       "      <td>1447.077745</td>\n",
       "      <td>1343.420036</td>\n",
       "    </tr>\n",
       "    <tr>\n",
       "      <th>2</th>\n",
       "      <td>2023-01-10 02:00:00</td>\n",
       "      <td>1294.138380</td>\n",
       "      <td>1331.623488</td>\n",
       "      <td>1452.067734</td>\n",
       "      <td>1339.487853</td>\n",
       "    </tr>\n",
       "    <tr>\n",
       "      <th>3</th>\n",
       "      <td>2023-01-10 03:00:00</td>\n",
       "      <td>1293.660028</td>\n",
       "      <td>1329.479296</td>\n",
       "      <td>1451.492945</td>\n",
       "      <td>1336.985714</td>\n",
       "    </tr>\n",
       "    <tr>\n",
       "      <th>4</th>\n",
       "      <td>2023-01-10 04:00:00</td>\n",
       "      <td>1292.363131</td>\n",
       "      <td>1327.170486</td>\n",
       "      <td>1447.857928</td>\n",
       "      <td>1335.022668</td>\n",
       "    </tr>\n",
       "    <tr>\n",
       "      <th>...</th>\n",
       "      <td>...</td>\n",
       "      <td>...</td>\n",
       "      <td>...</td>\n",
       "      <td>...</td>\n",
       "      <td>...</td>\n",
       "    </tr>\n",
       "    <tr>\n",
       "      <th>12521</th>\n",
       "      <td>2024-06-14 17:00:00</td>\n",
       "      <td>3861.890000</td>\n",
       "      <td>3753.580000</td>\n",
       "      <td>4059.110000</td>\n",
       "      <td>3792.625667</td>\n",
       "    </tr>\n",
       "    <tr>\n",
       "      <th>12522</th>\n",
       "      <td>2024-06-14 18:00:00</td>\n",
       "      <td>3779.210000</td>\n",
       "      <td>3702.630000</td>\n",
       "      <td>3991.060000</td>\n",
       "      <td>3789.202667</td>\n",
       "    </tr>\n",
       "    <tr>\n",
       "      <th>12523</th>\n",
       "      <td>2024-06-14 19:00:00</td>\n",
       "      <td>3766.860000</td>\n",
       "      <td>3685.080000</td>\n",
       "      <td>3972.560000</td>\n",
       "      <td>3785.105667</td>\n",
       "    </tr>\n",
       "    <tr>\n",
       "      <th>12524</th>\n",
       "      <td>2024-06-14 20:00:00</td>\n",
       "      <td>3758.570000</td>\n",
       "      <td>3675.240000</td>\n",
       "      <td>3965.210000</td>\n",
       "      <td>3780.951667</td>\n",
       "    </tr>\n",
       "    <tr>\n",
       "      <th>12525</th>\n",
       "      <td>2024-06-14 21:00:00</td>\n",
       "      <td>3763.130000</td>\n",
       "      <td>3699.200000</td>\n",
       "      <td>3963.300000</td>\n",
       "      <td>3777.408333</td>\n",
       "    </tr>\n",
       "  </tbody>\n",
       "</table>\n",
       "<p>12526 rows × 5 columns</p>\n",
       "</div>"
      ],
      "text/plain": [
       "SYMBOL                HOUR         RETH      SFRXETH       WSTETH   SFRXETH_MA\n",
       "0      2023-01-10 00:00:00  1290.143690  1343.795487  1448.049037  1343.795487\n",
       "1      2023-01-10 01:00:00  1289.049797  1343.044585  1447.077745  1343.420036\n",
       "2      2023-01-10 02:00:00  1294.138380  1331.623488  1452.067734  1339.487853\n",
       "3      2023-01-10 03:00:00  1293.660028  1329.479296  1451.492945  1336.985714\n",
       "4      2023-01-10 04:00:00  1292.363131  1327.170486  1447.857928  1335.022668\n",
       "...                    ...          ...          ...          ...          ...\n",
       "12521  2024-06-14 17:00:00  3861.890000  3753.580000  4059.110000  3792.625667\n",
       "12522  2024-06-14 18:00:00  3779.210000  3702.630000  3991.060000  3789.202667\n",
       "12523  2024-06-14 19:00:00  3766.860000  3685.080000  3972.560000  3785.105667\n",
       "12524  2024-06-14 20:00:00  3758.570000  3675.240000  3965.210000  3780.951667\n",
       "12525  2024-06-14 21:00:00  3763.130000  3699.200000  3963.300000  3777.408333\n",
       "\n",
       "[12526 rows x 5 columns]"
      ]
     },
     "execution_count": 208,
     "metadata": {},
     "output_type": "execute_result"
    }
   ],
   "source": [
    "price_timeseries"
   ]
  },
  {
   "cell_type": "code",
   "execution_count": 209,
   "id": "9dc27d59-c8f7-4a41-8c18-4d4d3c5e3e9c",
   "metadata": {},
   "outputs": [],
   "source": [
    "price_timeseries.loc[price_timeseries['HOUR'].isin(anomalies_dates), 'SFRXETH'] = price_timeseries.loc[price_timeseries['HOUR'].isin(anomalies_dates), 'SFRXETH_MA']\n"
   ]
  },
  {
   "cell_type": "code",
   "execution_count": 214,
   "id": "06766234-c10f-415e-af7f-10ddfff6be27",
   "metadata": {},
   "outputs": [
    {
     "data": {
      "text/plain": [
       "0       2023-01-10 00:00:00\n",
       "1       2023-01-10 01:00:00\n",
       "2       2023-01-10 02:00:00\n",
       "3       2023-01-10 03:00:00\n",
       "4       2023-01-10 04:00:00\n",
       "                ...        \n",
       "12521   2024-06-14 17:00:00\n",
       "12522   2024-06-14 18:00:00\n",
       "12523   2024-06-14 19:00:00\n",
       "12524   2024-06-14 20:00:00\n",
       "12525   2024-06-14 21:00:00\n",
       "Name: HOUR, Length: 12526, dtype: datetime64[ns]"
      ]
     },
     "execution_count": 214,
     "metadata": {},
     "output_type": "execute_result"
    }
   ],
   "source": [
    "price_timeseries['HOUR']"
   ]
  },
  {
   "cell_type": "code",
   "execution_count": 211,
   "id": "7caecc7e-4545-4704-a6cd-23c9a5b6567a",
   "metadata": {},
   "outputs": [
    {
     "name": "stdout",
     "output_type": "stream",
     "text": [
      "Empty DataFrame\n",
      "Columns: [HOUR, RETH, SFRXETH, WSTETH]\n",
      "Index: []\n"
     ]
    }
   ],
   "source": [
    "print(pivot_prices[pivot_prices['HOUR'].isin(weird_dates)])\n"
   ]
  },
  {
   "cell_type": "code",
   "execution_count": null,
   "id": "95f4d3b4-55fd-4fbc-85d1-0be7682b8ac1",
   "metadata": {},
   "outputs": [],
   "source": []
  }
 ],
 "metadata": {
  "kernelspec": {
   "display_name": "streamlit_robo_advisor_app",
   "language": "python",
   "name": "streamlit_robo_advisor_app"
  },
  "language_info": {
   "codemirror_mode": {
    "name": "ipython",
    "version": 3
   },
   "file_extension": ".py",
   "mimetype": "text/x-python",
   "name": "python",
   "nbconvert_exporter": "python",
   "pygments_lexer": "ipython3",
   "version": "3.11.9"
  }
 },
 "nbformat": 4,
 "nbformat_minor": 5
}
